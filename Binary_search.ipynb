{
  "nbformat": 4,
  "nbformat_minor": 0,
  "metadata": {
    "colab": {
      "provenance": []
    },
    "kernelspec": {
      "name": "python3",
      "display_name": "Python 3"
    },
    "language_info": {
      "name": "python"
    }
  },
  "cells": [
    {
      "cell_type": "markdown",
      "source": [
        "Vanilla Binary search - Iterative approach"
      ],
      "metadata": {
        "id": "0Zy7CZeCPv5r"
      }
    },
    {
      "cell_type": "code",
      "execution_count": null,
      "metadata": {
        "colab": {
          "base_uri": "https://localhost:8080/"
        },
        "id": "ha9W4DlaPtPI",
        "outputId": "a216dc44-b07d-4a02-dec7-7b88b7057189"
      },
      "outputs": [
        {
          "output_type": "stream",
          "name": "stdout",
          "text": [
            "1 3 6 8 9 10\n",
            "9\n",
            "4\n"
          ]
        }
      ],
      "source": [
        "def binary_search(arr, target):\n",
        "  n = len(arr)\n",
        "  left=0\n",
        "  right=n-1\n",
        "\n",
        "  while left<=right:\n",
        "    mid = (left+right)//2\n",
        "    if arr[mid]==target:\n",
        "      return mid\n",
        "    elif arr[mid]<target:\n",
        "      left = mid+1\n",
        "    else:\n",
        "      right = mid-1\n",
        "\n",
        "  return -1\n",
        "\n",
        "if __name__ == '__main__':\n",
        "\n",
        "  arr = [int(x) for x in input().split()]\n",
        "  target = int(input())\n",
        "  res = binary_search(arr, target)\n",
        "  print(res)"
      ]
    },
    {
      "cell_type": "markdown",
      "source": [
        "Time complexity: O(log n)"
      ],
      "metadata": {
        "id": "tvCfwhbyS__q"
      }
    },
    {
      "cell_type": "markdown",
      "source": [
        "Recursive appraoch"
      ],
      "metadata": {
        "id": "oucVcPc0TLYU"
      }
    },
    {
      "cell_type": "code",
      "source": [
        "def binary_search(arr, left, right, target):\n",
        "  n = len(arr)-1\n",
        "  while left <= right:\n",
        "    mid = (left + right) // 2\n",
        "    if target == arr[mid]:\n",
        "      return mid\n",
        "    elif target< arr[mid]:\n",
        "      return binary_search(arr,left,mid-1,target)\n",
        "    else:\n",
        "      return binary_search(arr,mid+1,right,target)\n",
        "\n",
        "  return -1\n",
        "\n",
        "if __name__ == '__main__':\n",
        "\n",
        "  arr = [int(x) for x in input().split()]\n",
        "  target = int(input())\n",
        "  res = binary_search(arr,0,len(arr)-1, target)\n",
        "  print(res)"
      ],
      "metadata": {
        "colab": {
          "base_uri": "https://localhost:8080/"
        },
        "id": "6LwndGD2TNLy",
        "outputId": "42e9c995-4935-4bfe-afa0-b61196ac5fd9"
      },
      "execution_count": null,
      "outputs": [
        {
          "output_type": "stream",
          "name": "stdout",
          "text": [
            "1 3 6 8 9 10\n",
            "8\n",
            "3\n"
          ]
        }
      ]
    },
    {
      "cell_type": "markdown",
      "source": [
        "The space complexity for recursive approach is O(log n) because of the recursive stack, iterative approach has O(1) space complexity."
      ],
      "metadata": {
        "id": "rQQ8PejzV-ai"
      }
    },
    {
      "cell_type": "markdown",
      "source": [
        "One of the common binary search problems involves finding boundary of boolean values. Using boundary index and finding the first occurrence of True is a great way of starting!"
      ],
      "metadata": {
        "id": "Tgj1OJKYbP6S"
      }
    },
    {
      "cell_type": "code",
      "source": [
        "from typing import List\n",
        "\n",
        "def find_boundary(arr: List[bool]) -> int:\n",
        "    left, right = 0, len(arr) - 1\n",
        "    boundary_index = -1\n",
        "\n",
        "    while left <= right:\n",
        "        mid = (left + right) // 2\n",
        "        if arr[mid]:\n",
        "            boundary_index = mid\n",
        "            right = mid - 1\n",
        "        else:\n",
        "            left = mid + 1\n",
        "\n",
        "    return boundary_index\n",
        "\n",
        "if __name__ == '__main__':\n",
        "    arr = [x == \"true\" for x in input().split()]\n",
        "    res = find_boundary(arr)\n",
        "    print(res)\n"
      ],
      "metadata": {
        "colab": {
          "base_uri": "https://localhost:8080/"
        },
        "id": "OCUvCOQDaCug",
        "outputId": "2b010be8-867d-4fe5-c3fb-65c9918d38f1"
      },
      "execution_count": null,
      "outputs": [
        {
          "output_type": "stream",
          "name": "stdout",
          "text": [
            "false false true true true\n",
            "2\n"
          ]
        }
      ]
    },
    {
      "cell_type": "markdown",
      "source": [
        "Here is the template for binary search algorithm:\n",
        "\n",
        "\n",
        "def binary_search(arr: List[int], target: int) -> int:\n",
        "\n",
        "    left, right = 0, len(arr) - 1\n",
        "    first_true_index = -1\n",
        "    while left <= right:\n",
        "        mid = (left + right) // 2\n",
        "        if feasible(mid):\n",
        "            first_true_index = mid\n",
        "            right = mid - 1\n",
        "        else:\n",
        "            left = mid + 1\n",
        "    return first_true_index"
      ],
      "metadata": {
        "id": "LALg6KlccWGB"
      }
    },
    {
      "cell_type": "markdown",
      "source": [
        "Question: First element not smallest (sorted arrays)"
      ],
      "metadata": {
        "id": "aiy7seH_4B_-"
      }
    },
    {
      "cell_type": "code",
      "source": [
        "def first_element_not_smallest(arr,target):\n",
        "\n",
        "  n = len(arr)-1\n",
        "  left=0\n",
        "  right=n\n",
        "  boundary_index = -1\n",
        "\n",
        "  while left<=right:\n",
        "    mid=(left+right)//2\n",
        "    if target < arr[mid]:\n",
        "      boundary_index=mid\n",
        "      right = mid - 1\n",
        "    else:\n",
        "      left = mid + 1\n",
        "  return boundary_index\n",
        "\n",
        "if __name__ == '__main__':\n",
        "\n",
        "  arr = [int(x) for x in input().split()]\n",
        "  target = int(input())\n",
        "  res = first_element_not_smallest(arr, target)\n",
        "  print(res)"
      ],
      "metadata": {
        "colab": {
          "base_uri": "https://localhost:8080/"
        },
        "id": "Addq5PX81WrZ",
        "outputId": "a7a6c983-e405-4f02-9389-a4d53cd46b7f"
      },
      "execution_count": null,
      "outputs": [
        {
          "output_type": "stream",
          "name": "stdout",
          "text": [
            "2 3 6 8 10\n",
            "4\n",
            "2\n"
          ]
        }
      ]
    },
    {
      "cell_type": "markdown",
      "source": [
        "### Question: First occurence in a sorted array with duplicates"
      ],
      "metadata": {
        "id": "NWq5aZwo7dDu"
      }
    },
    {
      "cell_type": "code",
      "source": [
        "def first_occurence(arr,target):\n",
        "\n",
        "  n = len(arr)-1\n",
        "  left= 0\n",
        "  right=n\n",
        "  boundary_index = -1\n",
        "\n",
        "  while left<=right:\n",
        "    mid = (left + right)//2\n",
        "    if target <= arr[mid]:\n",
        "      boundary_index = mid\n",
        "      right = mid - 1\n",
        "    else:\n",
        "      left = mid + 1\n",
        "\n",
        "  if arr[boundary_index]==target:\n",
        "    return boundary_index\n",
        "  else:\n",
        "    return -1\n",
        "\n",
        "if __name__ == '__main__':\n",
        "  arr = [int(x) for x in input().split()]\n",
        "  target = int(input())\n",
        "  res = first_occurence(arr, target)\n",
        "  print(res)"
      ],
      "metadata": {
        "colab": {
          "base_uri": "https://localhost:8080/"
        },
        "id": "4E7RTvI54jPy",
        "outputId": "970617ec-9d50-4818-a97e-4b9f2baa83b8"
      },
      "execution_count": null,
      "outputs": [
        {
          "output_type": "stream",
          "name": "stdout",
          "text": [
            "1 3 3 3 6 10 10 10 100\n",
            "3\n",
            "1\n"
          ]
        }
      ]
    },
    {
      "cell_type": "markdown",
      "source": [
        "### Minimum in rotated sorted array"
      ],
      "metadata": {
        "id": "MFCYjdJr7nlP"
      }
    },
    {
      "cell_type": "code",
      "source": [
        "def min_rotated(arr):\n",
        "\n",
        "  left = 0\n",
        "  right = len(arr)-1\n",
        "\n",
        "  while left <= right:\n",
        "    mid = (left + right)//2\n",
        "    if arr[mid] <= arr[-1]:\n",
        "      boundary_index = mid\n",
        "      right = right - 1\n",
        "    else:\n",
        "      left = left + 1\n",
        "\n",
        "  return boundary_index\n",
        "if __name__ == '__main__':\n",
        "  arr = [int(x) for x in input().split()]\n",
        "  res = min_rotated(arr)\n",
        "  print(res)"
      ],
      "metadata": {
        "colab": {
          "base_uri": "https://localhost:8080/"
        },
        "id": "mh41DHiI9h2m",
        "outputId": "a872499b-b753-4054-b8b3-6a8ddefd4f1b"
      },
      "execution_count": null,
      "outputs": [
        {
          "output_type": "stream",
          "name": "stdout",
          "text": [
            "30 40 50 5 10 20\n",
            "3\n"
          ]
        }
      ]
    },
    {
      "cell_type": "markdown",
      "source": [
        "### Search in rotated sorted array\n",
        "\n",
        "Input: nums = [4,5,6,7,0,1,2], target = 0\n",
        "Output: 4"
      ],
      "metadata": {
        "id": "N-ULSkQRAJl3"
      }
    },
    {
      "cell_type": "code",
      "source": [
        "def search_rotated(nums, target):\n",
        "    left, right = 0, len(nums) - 1\n",
        "\n",
        "    while left <= right:\n",
        "        mid = (left + right) // 2\n",
        "\n",
        "        if nums[mid] == target:\n",
        "            return mid\n",
        "\n",
        "        if nums[left] <= nums[mid]:\n",
        "            if nums[left] <= target <= nums[mid]:\n",
        "                right = mid - 1\n",
        "            else:\n",
        "                left = mid + 1\n",
        "        else:\n",
        "            if nums[mid] <= target <= nums[right]:\n",
        "                left = mid + 1\n",
        "            else:\n",
        "                right = mid - 1\n",
        "\n",
        "    return -1\n",
        "\n",
        "nums = [4, 5, 6, 7, 0, 1, 2]\n",
        "target = 0\n",
        "result = search_rotated(nums, target)\n",
        "print(result)\n"
      ],
      "metadata": {
        "colab": {
          "base_uri": "https://localhost:8080/"
        },
        "id": "tpoeCNCBAEAg",
        "outputId": "f3357ba2-0bdf-43d9-b841-07093d56db84"
      },
      "execution_count": 11,
      "outputs": [
        {
          "output_type": "stream",
          "name": "stdout",
          "text": [
            "4\n"
          ]
        }
      ]
    },
    {
      "cell_type": "markdown",
      "source": [
        "### Search in a 2d Matrix"
      ],
      "metadata": {
        "id": "tFgghsOUniUY"
      }
    },
    {
      "cell_type": "code",
      "source": [
        "def binary_search(arr,left,right,target):\n",
        "\n",
        "  while left<=right:\n",
        "    mid = (left+right)//2\n",
        "    if target==arr[mid]:\n",
        "      return True\n",
        "    elif target > arr[mid]:\n",
        "      left = mid+1\n",
        "    else:\n",
        "      right= mid-1\n",
        "\n",
        "  return False\n",
        "\n",
        "def search_2d(matrix,target):\n",
        "  m = len(matrix)\n",
        "  n = len(matrix[0])\n",
        "\n",
        "  for i in range(0,m):\n",
        "\n",
        "    if target >= matrix[i][0] and target <= matrix[i][n-1]:\n",
        "      return binary_search(matrix[i],0,n-1,target)\n",
        "  return False\n",
        "\n",
        "\n",
        "\n",
        "matrix = [[1,3,5,7],[10,11,16,20],[23,30,34,60]]\n",
        "search_2d(matrix,4)"
      ],
      "metadata": {
        "colab": {
          "base_uri": "https://localhost:8080/"
        },
        "id": "e2eqj--dfvTo",
        "outputId": "28e0d529-a0b3-420d-b934-4d6309d6406d"
      },
      "execution_count": null,
      "outputs": [
        {
          "output_type": "execute_result",
          "data": {
            "text/plain": [
              "False"
            ]
          },
          "metadata": {},
          "execution_count": 5
        }
      ]
    },
    {
      "cell_type": "markdown",
      "source": [
        "time complexity: O(m+logn). leetcode solution has a better time complexity O(logmn) but this approach is more intuitive and easier to understand\n"
      ],
      "metadata": {
        "id": "K-BNl3x5imLl"
      }
    },
    {
      "cell_type": "markdown",
      "source": [
        "###  Find Peak Element"
      ],
      "metadata": {
        "id": "6FPe1aLp8_1t"
      }
    },
    {
      "cell_type": "code",
      "source": [
        "def peak(arr):\n",
        "\n",
        "  left=0\n",
        "  right=len(arr)-1\n",
        "\n",
        "  while left<right:\n",
        "\n",
        "    mid = (left+right)//2\n",
        "\n",
        "    if arr[mid]>arr[mid+1]:\n",
        "      right=mid\n",
        "    else:\n",
        "      left=mid+1\n",
        "\n",
        "  return left\n",
        "\n",
        "nums = [1, 2, 1, 3, 5, 6, 4]\n",
        "res=peak(nums)\n",
        "print(res)"
      ],
      "metadata": {
        "colab": {
          "base_uri": "https://localhost:8080/"
        },
        "id": "V5G2Zv9QoFzt",
        "outputId": "fb5b077a-d6c0-464f-8f10-3f1146d49a8f"
      },
      "execution_count": null,
      "outputs": [
        {
          "output_type": "stream",
          "name": "stdout",
          "text": [
            "5\n"
          ]
        }
      ]
    },
    {
      "cell_type": "markdown",
      "source": [
        "### Koko loves bananas"
      ],
      "metadata": {
        "id": "fU1ZEMMN9Dhd"
      }
    },
    {
      "cell_type": "code",
      "source": [
        "from math import ceil\n",
        "\n",
        "def koko(piles, h):\n",
        "    left, right = 1, max(piles)\n",
        "\n",
        "    while left < right:\n",
        "        mid = (left + right) // 2\n",
        "\n",
        "        total_hours = sum(ceil(pile / mid) for pile in piles)\n",
        "\n",
        "        if total_hours <= h:\n",
        "            right = mid\n",
        "        else:\n",
        "            left = mid + 1\n",
        "    return left\n",
        "\n",
        "piles = [3, 6, 7, 11]\n",
        "hours = 8\n",
        "res = koko(piles, hours)\n",
        "print(res)\n"
      ],
      "metadata": {
        "id": "prNMZlJfp3u-",
        "colab": {
          "base_uri": "https://localhost:8080/"
        },
        "outputId": "dbb94d95-06c9-4192-e64b-707de0137c71"
      },
      "execution_count": 6,
      "outputs": [
        {
          "output_type": "stream",
          "name": "stdout",
          "text": [
            "4\n"
          ]
        }
      ]
    },
    {
      "cell_type": "markdown",
      "source": [
        "### Find First and Last index of an element"
      ],
      "metadata": {
        "id": "ZZljEx6lCXE6"
      }
    },
    {
      "cell_type": "code",
      "source": [
        "def find_index(arr,target):\n",
        "\n",
        "  def find_first(arr,target):\n",
        "    left=0\n",
        "    right=len(arr)-1\n",
        "    first=-1\n",
        "\n",
        "    while left<=right:\n",
        "      mid=(left+right)//2\n",
        "      if target==arr[mid]:\n",
        "        first=mid\n",
        "        right=mid-1\n",
        "      elif target>arr[mid]:\n",
        "        left=mid+1\n",
        "      else:\n",
        "        right=mid-1\n",
        "    return first\n",
        "\n",
        "  def find_last(arr,target):\n",
        "    left=0\n",
        "    right=len(arr)-1\n",
        "    last=-1\n",
        "\n",
        "    while left<=right:\n",
        "      mid=(left+right)//2\n",
        "      if target==arr[mid]:\n",
        "        last=mid\n",
        "        left=mid+1\n",
        "      elif target>arr[mid]:\n",
        "        left=mid+1\n",
        "      else:\n",
        "        right=mid-1\n",
        "    return last\n",
        "\n",
        "  res1=find_first(arr,target)\n",
        "  res2=find_last(arr,target)\n",
        "  list1=[res1,res2]\n",
        "  return list1\n",
        "\n",
        "\n",
        "\n",
        "\n",
        "res=find_index([5,7,7,8,8,10],8)\n",
        "print(res)"
      ],
      "metadata": {
        "colab": {
          "base_uri": "https://localhost:8080/"
        },
        "id": "cOav6G7lA6uQ",
        "outputId": "743bf412-bcdc-49a0-c494-17057eaa3e0b"
      },
      "execution_count": 10,
      "outputs": [
        {
          "output_type": "stream",
          "name": "stdout",
          "text": [
            "[3, 4]\n"
          ]
        }
      ]
    },
    {
      "cell_type": "markdown",
      "source": [
        "### Single element in sorted array"
      ],
      "metadata": {
        "id": "T-VGnYb0LHN7"
      }
    },
    {
      "cell_type": "code",
      "source": [
        "def single_non_duplicate(nums):\n",
        "    left, right = 0, len(nums) - 1\n",
        "\n",
        "    while left < right:\n",
        "        mid = (left + right) // 2\n",
        "        if mid % 2 == 0:\n",
        "            if nums[mid] == nums[mid + 1]:\n",
        "                left = mid + 2\n",
        "            else:\n",
        "                right = mid\n",
        "        else:\n",
        "            if nums[mid] == nums[mid - 1]:\n",
        "                left = mid + 1\n",
        "            else:\n",
        "                right = mid\n",
        "\n",
        "    return nums[left]\n",
        "nums = [1, 1, 2, 3, 3, 4, 4, 8, 8]\n",
        "result = single_non_duplicate(nums)\n",
        "print(result)\n"
      ],
      "metadata": {
        "id": "1lSlVkGmJhIg"
      },
      "execution_count": null,
      "outputs": []
    }
  ]
}