{
  "nbformat": 4,
  "nbformat_minor": 0,
  "metadata": {
    "colab": {
      "provenance": []
    },
    "kernelspec": {
      "name": "python3",
      "display_name": "Python 3"
    },
    "language_info": {
      "name": "python"
    }
  },
  "cells": [
    {
      "cell_type": "markdown",
      "source": [
        "### Maximum Depth of a Binary Tree"
      ],
      "metadata": {
        "id": "rRDeUPPIrKJi"
      }
    },
    {
      "cell_type": "markdown",
      "source": [
        "Recursive DFS"
      ],
      "metadata": {
        "id": "LktS-J1nWz9a"
      }
    },
    {
      "cell_type": "code",
      "source": [
        "class Node:\n",
        "\n",
        "  def __init__(self,data,left=None,right=None):\n",
        "\n",
        "    self.data = data\n",
        "    self.left = left\n",
        "    self.right = right\n",
        "\n",
        "def maxDepth(root:Node)->int:\n",
        "\n",
        "  if not root:\n",
        "    return 0\n",
        "\n",
        "  return max(1 + maxDepth(root.left), 1 + maxDepth(root.right))\n",
        "\n",
        "root = Node(4)\n",
        "root.left = Node(2)\n",
        "root.right = Node(6)\n",
        "root.left.left = Node(7)\n",
        "root.left.right = Node(5)\n",
        "root.left.left.left = Node(9)\n",
        "root.right.left = Node(10)\n",
        "root.right.left.right =Node(11)\n",
        "root.right.left.right.left = Node(14)\n",
        "\n",
        "res=maxDepth(root)\n",
        "print(res)"
      ],
      "metadata": {
        "colab": {
          "base_uri": "https://localhost:8080/"
        },
        "id": "fUsfkuFBWFx5",
        "outputId": "9d765f86-f92a-444a-81fa-f40f54e9904a"
      },
      "execution_count": null,
      "outputs": [
        {
          "output_type": "stream",
          "name": "stdout",
          "text": [
            "5\n"
          ]
        }
      ]
    },
    {
      "cell_type": "markdown",
      "source": [
        "Time complexity: O(n)"
      ],
      "metadata": {
        "id": "DOcDj0NVWrWb"
      }
    },
    {
      "cell_type": "markdown",
      "source": [
        "Iterative DFS"
      ],
      "metadata": {
        "id": "SHXZG-YJW10u"
      }
    },
    {
      "cell_type": "code",
      "execution_count": null,
      "metadata": {
        "id": "rpJFEADnrHnW",
        "colab": {
          "base_uri": "https://localhost:8080/"
        },
        "outputId": "9609ecf9-b361-4dc2-8477-35a6c637f475"
      },
      "outputs": [
        {
          "output_type": "stream",
          "name": "stdout",
          "text": [
            "Height of tree is 3\n"
          ]
        }
      ],
      "source": [
        "class Node:\n",
        "\n",
        "  def __init__(self,data,left=None,right=None):\n",
        "    self.data=data\n",
        "    self.left=left\n",
        "    self.right=right\n",
        "\n",
        "\n",
        "def max_Depth(node:Node):\n",
        "  stack = [[root,1]]\n",
        "  res=0\n",
        "\n",
        "  while stack:\n",
        "    node, depth = stack.pop()\n",
        "\n",
        "    if node:\n",
        "      res = max(res,depth)\n",
        "      stack.append([node.left, depth+1])\n",
        "      stack.append([node.right, depth+1])\n",
        "  return res\n",
        "\n",
        "root = Node(1)\n",
        "root.left = Node(2)\n",
        "root.right = Node(3)\n",
        "root.left.left = Node(4)\n",
        "root.left.right = Node(5)\n",
        "\n",
        "\n",
        "print(\"Height of tree is %d\" % (max_Depth(root)))"
      ]
    },
    {
      "cell_type": "markdown",
      "source": [
        "### Number of Visible Nodes or Good Nodes"
      ],
      "metadata": {
        "id": "Nvpk3-UoWzBN"
      }
    },
    {
      "cell_type": "code",
      "source": [
        "class Node:\n",
        "\n",
        "  def __init__(self,data,left=None,right=None):\n",
        "    self.data=data\n",
        "    self.left=left\n",
        "    self.right=right\n",
        "\n",
        "def visible(root:Node):\n",
        "  def dfs(root,maxVal):\n",
        "\n",
        "    if not root:\n",
        "      return 0\n",
        "\n",
        "    res = 1 if root.data >= maxVal else 0\n",
        "    maxVal = max(root.data,maxVal)\n",
        "    res+= dfs(root.left,maxVal)\n",
        "    res+= dfs(root.right,maxVal)\n",
        "\n",
        "    return res\n",
        "\n",
        "  return dfs(root,root.data)\n",
        "\n",
        "root = Node(3)\n",
        "root.left = Node(1)\n",
        "root.right = Node(4)\n",
        "root.left.left = Node(3)\n",
        "root.right.right = Node(5)\n",
        "root.right.left=Node(1)\n",
        "result=visible(root)\n",
        "print(\"Number of visible nodes:\", result)"
      ],
      "metadata": {
        "id": "BkDAoHGoUglu",
        "colab": {
          "base_uri": "https://localhost:8080/"
        },
        "outputId": "f96b9264-c8a2-40de-908d-70c98833202e"
      },
      "execution_count": null,
      "outputs": [
        {
          "output_type": "stream",
          "name": "stdout",
          "text": [
            "Number of visible nodes: 4\n"
          ]
        }
      ]
    },
    {
      "cell_type": "markdown",
      "source": [
        "Time complexity: O(n)"
      ],
      "metadata": {
        "id": "FQpQnUSdWutm"
      }
    },
    {
      "cell_type": "markdown",
      "source": [
        "### Balanced Binary Tree"
      ],
      "metadata": {
        "id": "cbgaiYhvfX4f"
      }
    },
    {
      "cell_type": "code",
      "source": [
        "class Node:\n",
        "\n",
        "  def __init__(self,data, left=None, right=None):\n",
        "\n",
        "    self.data = data\n",
        "    self.left = left\n",
        "    self.right = right\n",
        "\n",
        "def balanced(root:Node):\n",
        "\n",
        "  def dfs(root):\n",
        "    if not root:\n",
        "      return [True, 0]\n",
        "\n",
        "    left, right = dfs(root.left), dfs(root.right)\n",
        "    balance = (left[0] and right[0] and abs(left[1]-right[1])<=1)\n",
        "    return [balance , 1 + max(left[1],right[1])]\n",
        "\n",
        "  return dfs(root)[0]\n",
        "\n",
        "\n",
        "root = Node(1)\n",
        "root.right = Node(3)\n",
        "root.right.right = Node(6)\n",
        "root.left=Node(2)\n",
        "root.left.left=Node(4)\n",
        "root.left.right=Node(5)\n",
        "root.left.left.right=Node(7)\n",
        "\n",
        "balanced(root)\n",
        "\n",
        "\n"
      ],
      "metadata": {
        "colab": {
          "base_uri": "https://localhost:8080/"
        },
        "id": "OPN9A6YrVxSJ",
        "outputId": "03ea8ae9-ee11-4380-fb0f-f5cfc7ca3ae1"
      },
      "execution_count": null,
      "outputs": [
        {
          "output_type": "execute_result",
          "data": {
            "text/plain": [
              "True"
            ]
          },
          "metadata": {},
          "execution_count": 9
        }
      ]
    },
    {
      "cell_type": "markdown",
      "source": [
        "### Invert a Binary Tree"
      ],
      "metadata": {
        "id": "-wiO0f5me_a_"
      }
    },
    {
      "cell_type": "code",
      "source": [
        "class Node:\n",
        "\n",
        "  def __init__(self,data,left=None,right=None):\n",
        "    self.data=data\n",
        "    self.left=left\n",
        "    self.right=right\n",
        "\n",
        "def invert(root:Node):\n",
        "\n",
        "  if not root:\n",
        "    return None\n",
        "  root.left,root.right = root.right, root.left\n",
        "  invert(root.left)\n",
        "  invert(root.right)\n",
        "  return root\n",
        "\n",
        "def print_tree(root, level=0, prefix=\"Root: \"):\n",
        "    if root:\n",
        "        print(\" \" * (level * 4) + prefix + str(root.data))\n",
        "        if root.left or root.right:\n",
        "            print_tree(root.left, level + 1, \"L--- \")\n",
        "            print_tree(root.right, level + 1, \"R--- \")\n",
        "\n",
        "root= Node(1)\n",
        "root.left=Node(2)\n",
        "root.right=Node(3)\n",
        "root.left.left=Node(4)\n",
        "root.left.left.right=Node(7)\n",
        "root.left.right=Node(5)\n",
        "root.right.right=Node(6)\n",
        "\n",
        "print_tree(root)\n",
        "res = invert(root)\n",
        "print_tree(res)"
      ],
      "metadata": {
        "id": "kZhB2PPliXYL",
        "colab": {
          "base_uri": "https://localhost:8080/"
        },
        "outputId": "1e17072f-ff21-4497-9555-168ee5fd45f0"
      },
      "execution_count": null,
      "outputs": [
        {
          "output_type": "stream",
          "name": "stdout",
          "text": [
            "Root: 1\n",
            "    L--- 2\n",
            "        L--- 4\n",
            "            R--- 7\n",
            "        R--- 5\n",
            "    R--- 3\n",
            "        R--- 6\n",
            "Root: 1\n",
            "    L--- 3\n",
            "        L--- 6\n",
            "    R--- 2\n",
            "        L--- 5\n",
            "        R--- 4\n",
            "            L--- 7\n"
          ]
        }
      ]
    },
    {
      "cell_type": "markdown",
      "source": [
        "### Subtree of binary tree"
      ],
      "metadata": {
        "id": "3ED-Ags5KjZf"
      }
    },
    {
      "cell_type": "markdown",
      "source": [
        "Logic for subtree -- we do a preorder traversal\n",
        "check if the subtree is present at the root node itself\n",
        "if its not, then we check it in the left child, and right child\n",
        "use a helper function to check if the subtree is found"
      ],
      "metadata": {
        "id": "W4kPrl3kSUhv"
      }
    },
    {
      "cell_type": "code",
      "source": [
        "class Node:\n",
        "  def __init__(self, data, left=None, right=None):\n",
        "\n",
        "    self.data=data\n",
        "    self.left=left\n",
        "    self.right=right\n",
        "\n",
        "def subTree(root:Node,subRoot:Node):\n",
        "  if not root:\n",
        "    return False\n",
        "  if not subRoot:\n",
        "    return True\n",
        "\n",
        "  if same(root, subRoot): #subtree found at root node\n",
        "    return True\n",
        "  same(root.left,subRoot) #else checking in the left subtree\n",
        "  same(root.right,subRoot)#checking in the right subtree\n",
        "\n",
        "def same(root:Node, subRoot:Node):\n",
        "    if not root and not subRoot:\n",
        "      return True\n",
        "\n",
        "    if root and subRoot and root.data == subRoot.data:\n",
        "      left = same(root.left, subRoot.left)\n",
        "      right = same(root.right, subRoot.right)\n",
        "      return (left and right)\n",
        "    return False\n",
        "\n",
        "def print_tree(root, level=0, prefix=\"Root: \"):\n",
        "    if root:\n",
        "        print(\" \" * (level * 4) + prefix + str(root.val))\n",
        "        if root.left or root.right:\n",
        "            print_tree(root.left, level + 1, \"L--- \")\n",
        "            print_tree(root.right, level + 1, \"R--- \")\n",
        "\n",
        "\n",
        "\n",
        "\n"
      ],
      "metadata": {
        "id": "hsvDbS0gh4lW"
      },
      "execution_count": null,
      "outputs": []
    },
    {
      "cell_type": "markdown",
      "source": [
        "### Valid Binary Search Tree"
      ],
      "metadata": {
        "id": "BewIGwK-q0sM"
      }
    },
    {
      "cell_type": "code",
      "source": [],
      "metadata": {
        "colab": {
          "base_uri": "https://localhost:8080/"
        },
        "id": "9MpR38Z-q9g9",
        "outputId": "407350c3-d9c3-4ae3-9b11-9d59af9a3ded"
      },
      "execution_count": null,
      "outputs": [
        {
          "output_type": "stream",
          "name": "stdout",
          "text": [
            "True\n"
          ]
        }
      ]
    },
    {
      "cell_type": "markdown",
      "source": [
        "### Insert into a BST"
      ],
      "metadata": {
        "id": "VTt8RoyJsB9O"
      }
    },
    {
      "cell_type": "code",
      "source": [
        "class Node:\n",
        "    def __init__(self, val, left=None, right=None):\n",
        "        self.val = val\n",
        "        self.left = left\n",
        "        self.right = right\n",
        "\n",
        "def dfs(root: Node, val):\n",
        "    if not root:\n",
        "        return Node(val)\n",
        "\n",
        "    if val < root.val:\n",
        "        root.left = dfs(root.left, val)\n",
        "    if val > root.val:\n",
        "        root.right = dfs(root.right, val)\n",
        "    return root\n",
        "\n",
        "def print_tree(root, level=0, prefix=\"Root: \"):\n",
        "    if root:\n",
        "        print(\" \" * (level * 4) + prefix + str(root.val))\n",
        "        if root.left or root.right:\n",
        "            print_tree(root.left, level + 1, \"L--- \")\n",
        "            print_tree(root.right, level + 1, \"R--- \")\n",
        "\n",
        "root = Node(4)\n",
        "root.left = Node(2)\n",
        "root.right = Node(7)\n",
        "res = dfs(root, 5)\n",
        "\n",
        "print_tree(res)\n"
      ],
      "metadata": {
        "id": "zmsctDRQGudV",
        "colab": {
          "base_uri": "https://localhost:8080/"
        },
        "outputId": "22885d11-8e51-48e4-c23e-653921c105fc"
      },
      "execution_count": null,
      "outputs": [
        {
          "output_type": "stream",
          "name": "stdout",
          "text": [
            "Root: 4\n",
            "    L--- 2\n",
            "    R--- 7\n",
            "        L--- 5\n"
          ]
        }
      ]
    },
    {
      "cell_type": "markdown",
      "source": [
        "### Right side view of Binary Tree"
      ],
      "metadata": {
        "id": "MJ1-IBzXudBQ"
      }
    },
    {
      "cell_type": "code",
      "source": [
        "def rightSideView(root: Node) -> list[int]:\n",
        "  ans =[]\n",
        "\n",
        "  def dfs(node =root,level=1):\n",
        "      if not node: return\n",
        "\n",
        "      if len(ans) < level:\n",
        "          ans.append(node.val)\n",
        "      dfs(node.right,level+1)         #  <--- right first\n",
        "      dfs(node.left ,level+1)         #  <--- then left\n",
        "\n",
        "      return\n",
        "\n",
        "  dfs()\n",
        "  return ans\n",
        "\n",
        "root = Node(4)\n",
        "root.left = Node(2)\n",
        "root.right = Node(7)\n",
        "root.right.right = Node(9)\n",
        "\n",
        "res = rightSideView(root)\n",
        "print(res)"
      ],
      "metadata": {
        "colab": {
          "base_uri": "https://localhost:8080/"
        },
        "id": "EN8gDDqVvxRL",
        "outputId": "cf055530-a240-4781-909d-d6bd9c1c8322"
      },
      "execution_count": null,
      "outputs": [
        {
          "output_type": "stream",
          "name": "stdout",
          "text": [
            "[4, 7, 9]\n"
          ]
        }
      ]
    },
    {
      "cell_type": "code",
      "source": [],
      "metadata": {
        "id": "V-oeMp4nzvIZ"
      },
      "execution_count": null,
      "outputs": []
    }
  ]
}